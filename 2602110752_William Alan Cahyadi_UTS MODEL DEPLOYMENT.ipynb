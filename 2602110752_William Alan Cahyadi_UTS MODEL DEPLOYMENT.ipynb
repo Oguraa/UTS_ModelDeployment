{
 "cells": [
  {
   "cell_type": "code",
   "execution_count": 9,
   "id": "2710b4e1",
   "metadata": {},
   "outputs": [],
   "source": [
    "import numpy as np\n",
    "import pandas as pd\n",
    "import matplotlib.pyplot as plt\n",
    "import pickle\n",
    "import seaborn as sns\n",
    "import warnings\n",
    "warnings.filterwarnings('ignore')"
   ]
  },
  {
   "cell_type": "markdown",
   "id": "c33486c5",
   "metadata": {},
   "source": [
    "Import data"
   ]
  },
  {
   "cell_type": "code",
   "execution_count": 10,
   "id": "b9d2f272",
   "metadata": {},
   "outputs": [
    {
     "data": {
      "text/html": [
       "<div>\n",
       "<style scoped>\n",
       "    .dataframe tbody tr th:only-of-type {\n",
       "        vertical-align: middle;\n",
       "    }\n",
       "\n",
       "    .dataframe tbody tr th {\n",
       "        vertical-align: top;\n",
       "    }\n",
       "\n",
       "    .dataframe thead th {\n",
       "        text-align: right;\n",
       "    }\n",
       "</style>\n",
       "<table border=\"1\" class=\"dataframe\">\n",
       "  <thead>\n",
       "    <tr style=\"text-align: right;\">\n",
       "      <th></th>\n",
       "      <th>Unnamed: 0</th>\n",
       "      <th>id</th>\n",
       "      <th>CustomerId</th>\n",
       "      <th>Surname</th>\n",
       "      <th>CreditScore</th>\n",
       "      <th>Geography</th>\n",
       "      <th>Gender</th>\n",
       "      <th>Age</th>\n",
       "      <th>Tenure</th>\n",
       "      <th>Balance</th>\n",
       "      <th>NumOfProducts</th>\n",
       "      <th>HasCrCard</th>\n",
       "      <th>IsActiveMember</th>\n",
       "      <th>EstimatedSalary</th>\n",
       "      <th>churn</th>\n",
       "    </tr>\n",
       "  </thead>\n",
       "  <tbody>\n",
       "    <tr>\n",
       "      <th>0</th>\n",
       "      <td>0</td>\n",
       "      <td>157138</td>\n",
       "      <td>15638646</td>\n",
       "      <td>Chinweike</td>\n",
       "      <td>628.0</td>\n",
       "      <td>Spain</td>\n",
       "      <td>Female</td>\n",
       "      <td>50.0</td>\n",
       "      <td>4</td>\n",
       "      <td>160133.08</td>\n",
       "      <td>1</td>\n",
       "      <td>1</td>\n",
       "      <td>1</td>\n",
       "      <td>653.53</td>\n",
       "      <td>0</td>\n",
       "    </tr>\n",
       "    <tr>\n",
       "      <th>1</th>\n",
       "      <td>1</td>\n",
       "      <td>116144</td>\n",
       "      <td>15695825</td>\n",
       "      <td>Onwumelu</td>\n",
       "      <td>710.0</td>\n",
       "      <td>Spain</td>\n",
       "      <td>Male</td>\n",
       "      <td>34.0</td>\n",
       "      <td>8</td>\n",
       "      <td>0.00</td>\n",
       "      <td>2</td>\n",
       "      <td>1</td>\n",
       "      <td>1</td>\n",
       "      <td>72993.73</td>\n",
       "      <td>0</td>\n",
       "    </tr>\n",
       "    <tr>\n",
       "      <th>2</th>\n",
       "      <td>2</td>\n",
       "      <td>145603</td>\n",
       "      <td>15592765</td>\n",
       "      <td>Marks</td>\n",
       "      <td>663.0</td>\n",
       "      <td>France</td>\n",
       "      <td>Female</td>\n",
       "      <td>23.0</td>\n",
       "      <td>8</td>\n",
       "      <td>125470.81</td>\n",
       "      <td>1</td>\n",
       "      <td>1</td>\n",
       "      <td>1</td>\n",
       "      <td>174536.17</td>\n",
       "      <td>0</td>\n",
       "    </tr>\n",
       "    <tr>\n",
       "      <th>3</th>\n",
       "      <td>3</td>\n",
       "      <td>79929</td>\n",
       "      <td>15807525</td>\n",
       "      <td>Onyemachukwu</td>\n",
       "      <td>644.0</td>\n",
       "      <td>Spain</td>\n",
       "      <td>Male</td>\n",
       "      <td>45.0</td>\n",
       "      <td>8</td>\n",
       "      <td>0.00</td>\n",
       "      <td>2</td>\n",
       "      <td>0</td>\n",
       "      <td>1</td>\n",
       "      <td>28690.90</td>\n",
       "      <td>0</td>\n",
       "    </tr>\n",
       "    <tr>\n",
       "      <th>4</th>\n",
       "      <td>4</td>\n",
       "      <td>52554</td>\n",
       "      <td>15611551</td>\n",
       "      <td>Hill</td>\n",
       "      <td>627.0</td>\n",
       "      <td>Spain</td>\n",
       "      <td>Male</td>\n",
       "      <td>23.0</td>\n",
       "      <td>5</td>\n",
       "      <td>0.00</td>\n",
       "      <td>2</td>\n",
       "      <td>1</td>\n",
       "      <td>0</td>\n",
       "      <td>134483.07</td>\n",
       "      <td>0</td>\n",
       "    </tr>\n",
       "    <tr>\n",
       "      <th>...</th>\n",
       "      <td>...</td>\n",
       "      <td>...</td>\n",
       "      <td>...</td>\n",
       "      <td>...</td>\n",
       "      <td>...</td>\n",
       "      <td>...</td>\n",
       "      <td>...</td>\n",
       "      <td>...</td>\n",
       "      <td>...</td>\n",
       "      <td>...</td>\n",
       "      <td>...</td>\n",
       "      <td>...</td>\n",
       "      <td>...</td>\n",
       "      <td>...</td>\n",
       "      <td>...</td>\n",
       "    </tr>\n",
       "    <tr>\n",
       "      <th>41253</th>\n",
       "      <td>41253</td>\n",
       "      <td>55217</td>\n",
       "      <td>15641043</td>\n",
       "      <td>Onyemere</td>\n",
       "      <td>641.0</td>\n",
       "      <td>Germany</td>\n",
       "      <td>Male</td>\n",
       "      <td>38.0</td>\n",
       "      <td>2</td>\n",
       "      <td>138166.30</td>\n",
       "      <td>2</td>\n",
       "      <td>0</td>\n",
       "      <td>1</td>\n",
       "      <td>69227.66</td>\n",
       "      <td>0</td>\n",
       "    </tr>\n",
       "    <tr>\n",
       "      <th>41254</th>\n",
       "      <td>41254</td>\n",
       "      <td>110969</td>\n",
       "      <td>15674541</td>\n",
       "      <td>Robinson</td>\n",
       "      <td>575.0</td>\n",
       "      <td>France</td>\n",
       "      <td>Male</td>\n",
       "      <td>52.0</td>\n",
       "      <td>8</td>\n",
       "      <td>0.00</td>\n",
       "      <td>2</td>\n",
       "      <td>0</td>\n",
       "      <td>1</td>\n",
       "      <td>111342.66</td>\n",
       "      <td>0</td>\n",
       "    </tr>\n",
       "    <tr>\n",
       "      <th>41255</th>\n",
       "      <td>41255</td>\n",
       "      <td>132494</td>\n",
       "      <td>15700601</td>\n",
       "      <td>Kao</td>\n",
       "      <td>571.0</td>\n",
       "      <td>France</td>\n",
       "      <td>Male</td>\n",
       "      <td>34.0</td>\n",
       "      <td>1</td>\n",
       "      <td>119452.03</td>\n",
       "      <td>2</td>\n",
       "      <td>1</td>\n",
       "      <td>1</td>\n",
       "      <td>173511.72</td>\n",
       "      <td>0</td>\n",
       "    </tr>\n",
       "    <tr>\n",
       "      <th>41256</th>\n",
       "      <td>41256</td>\n",
       "      <td>31177</td>\n",
       "      <td>15806926</td>\n",
       "      <td>Nkemjika</td>\n",
       "      <td>624.0</td>\n",
       "      <td>France</td>\n",
       "      <td>Male</td>\n",
       "      <td>38.0</td>\n",
       "      <td>4</td>\n",
       "      <td>0.00</td>\n",
       "      <td>1</td>\n",
       "      <td>0</td>\n",
       "      <td>0</td>\n",
       "      <td>40320.30</td>\n",
       "      <td>0</td>\n",
       "    </tr>\n",
       "    <tr>\n",
       "      <th>41257</th>\n",
       "      <td>41257</td>\n",
       "      <td>154294</td>\n",
       "      <td>15696231</td>\n",
       "      <td>Chiwetelu</td>\n",
       "      <td>668.0</td>\n",
       "      <td>France</td>\n",
       "      <td>Male</td>\n",
       "      <td>29.0</td>\n",
       "      <td>7</td>\n",
       "      <td>105405.97</td>\n",
       "      <td>1</td>\n",
       "      <td>1</td>\n",
       "      <td>1</td>\n",
       "      <td>149853.89</td>\n",
       "      <td>0</td>\n",
       "    </tr>\n",
       "  </tbody>\n",
       "</table>\n",
       "<p>41258 rows × 15 columns</p>\n",
       "</div>"
      ],
      "text/plain": [
       "       Unnamed: 0      id  CustomerId       Surname  CreditScore Geography  \\\n",
       "0               0  157138    15638646     Chinweike        628.0     Spain   \n",
       "1               1  116144    15695825      Onwumelu        710.0     Spain   \n",
       "2               2  145603    15592765         Marks        663.0    France   \n",
       "3               3   79929    15807525  Onyemachukwu        644.0     Spain   \n",
       "4               4   52554    15611551          Hill        627.0     Spain   \n",
       "...           ...     ...         ...           ...          ...       ...   \n",
       "41253       41253   55217    15641043      Onyemere        641.0   Germany   \n",
       "41254       41254  110969    15674541      Robinson        575.0    France   \n",
       "41255       41255  132494    15700601           Kao        571.0    France   \n",
       "41256       41256   31177    15806926      Nkemjika        624.0    France   \n",
       "41257       41257  154294    15696231     Chiwetelu        668.0    France   \n",
       "\n",
       "       Gender   Age  Tenure    Balance  NumOfProducts  HasCrCard  \\\n",
       "0      Female  50.0       4  160133.08              1          1   \n",
       "1        Male  34.0       8       0.00              2          1   \n",
       "2      Female  23.0       8  125470.81              1          1   \n",
       "3        Male  45.0       8       0.00              2          0   \n",
       "4        Male  23.0       5       0.00              2          1   \n",
       "...       ...   ...     ...        ...            ...        ...   \n",
       "41253    Male  38.0       2  138166.30              2          0   \n",
       "41254    Male  52.0       8       0.00              2          0   \n",
       "41255    Male  34.0       1  119452.03              2          1   \n",
       "41256    Male  38.0       4       0.00              1          0   \n",
       "41257    Male  29.0       7  105405.97              1          1   \n",
       "\n",
       "       IsActiveMember  EstimatedSalary  churn  \n",
       "0                   1           653.53      0  \n",
       "1                   1         72993.73      0  \n",
       "2                   1        174536.17      0  \n",
       "3                   1         28690.90      0  \n",
       "4                   0        134483.07      0  \n",
       "...               ...              ...    ...  \n",
       "41253               1         69227.66      0  \n",
       "41254               1        111342.66      0  \n",
       "41255               1        173511.72      0  \n",
       "41256               0         40320.30      0  \n",
       "41257               1        149853.89      0  \n",
       "\n",
       "[41258 rows x 15 columns]"
      ]
     },
     "execution_count": 10,
     "metadata": {},
     "output_type": "execute_result"
    }
   ],
   "source": [
    "df = pd.read_csv('C:/Users/William Alan Cahyadi/Downloads/UTS MODEL/data_C.csv')\n",
    "df"
   ]
  },
  {
   "cell_type": "markdown",
   "id": "bd4c494a",
   "metadata": {},
   "source": [
    "Explore the data"
   ]
  },
  {
   "cell_type": "code",
   "execution_count": 11,
   "id": "9347077d",
   "metadata": {},
   "outputs": [
    {
     "data": {
      "text/html": [
       "<div>\n",
       "<style scoped>\n",
       "    .dataframe tbody tr th:only-of-type {\n",
       "        vertical-align: middle;\n",
       "    }\n",
       "\n",
       "    .dataframe tbody tr th {\n",
       "        vertical-align: top;\n",
       "    }\n",
       "\n",
       "    .dataframe thead th {\n",
       "        text-align: right;\n",
       "    }\n",
       "</style>\n",
       "<table border=\"1\" class=\"dataframe\">\n",
       "  <thead>\n",
       "    <tr style=\"text-align: right;\">\n",
       "      <th></th>\n",
       "      <th>Unnamed: 0</th>\n",
       "      <th>id</th>\n",
       "      <th>CustomerId</th>\n",
       "      <th>Surname</th>\n",
       "      <th>CreditScore</th>\n",
       "      <th>Geography</th>\n",
       "      <th>Gender</th>\n",
       "      <th>Age</th>\n",
       "      <th>Tenure</th>\n",
       "      <th>Balance</th>\n",
       "      <th>NumOfProducts</th>\n",
       "      <th>HasCrCard</th>\n",
       "      <th>IsActiveMember</th>\n",
       "      <th>EstimatedSalary</th>\n",
       "      <th>churn</th>\n",
       "    </tr>\n",
       "  </thead>\n",
       "  <tbody>\n",
       "    <tr>\n",
       "      <th>0</th>\n",
       "      <td>0</td>\n",
       "      <td>157138</td>\n",
       "      <td>15638646</td>\n",
       "      <td>Chinweike</td>\n",
       "      <td>628.0</td>\n",
       "      <td>Spain</td>\n",
       "      <td>Female</td>\n",
       "      <td>50.0</td>\n",
       "      <td>4</td>\n",
       "      <td>160133.08</td>\n",
       "      <td>1</td>\n",
       "      <td>1</td>\n",
       "      <td>1</td>\n",
       "      <td>653.53</td>\n",
       "      <td>0</td>\n",
       "    </tr>\n",
       "    <tr>\n",
       "      <th>1</th>\n",
       "      <td>1</td>\n",
       "      <td>116144</td>\n",
       "      <td>15695825</td>\n",
       "      <td>Onwumelu</td>\n",
       "      <td>710.0</td>\n",
       "      <td>Spain</td>\n",
       "      <td>Male</td>\n",
       "      <td>34.0</td>\n",
       "      <td>8</td>\n",
       "      <td>0.00</td>\n",
       "      <td>2</td>\n",
       "      <td>1</td>\n",
       "      <td>1</td>\n",
       "      <td>72993.73</td>\n",
       "      <td>0</td>\n",
       "    </tr>\n",
       "    <tr>\n",
       "      <th>2</th>\n",
       "      <td>2</td>\n",
       "      <td>145603</td>\n",
       "      <td>15592765</td>\n",
       "      <td>Marks</td>\n",
       "      <td>663.0</td>\n",
       "      <td>France</td>\n",
       "      <td>Female</td>\n",
       "      <td>23.0</td>\n",
       "      <td>8</td>\n",
       "      <td>125470.81</td>\n",
       "      <td>1</td>\n",
       "      <td>1</td>\n",
       "      <td>1</td>\n",
       "      <td>174536.17</td>\n",
       "      <td>0</td>\n",
       "    </tr>\n",
       "    <tr>\n",
       "      <th>3</th>\n",
       "      <td>3</td>\n",
       "      <td>79929</td>\n",
       "      <td>15807525</td>\n",
       "      <td>Onyemachukwu</td>\n",
       "      <td>644.0</td>\n",
       "      <td>Spain</td>\n",
       "      <td>Male</td>\n",
       "      <td>45.0</td>\n",
       "      <td>8</td>\n",
       "      <td>0.00</td>\n",
       "      <td>2</td>\n",
       "      <td>0</td>\n",
       "      <td>1</td>\n",
       "      <td>28690.90</td>\n",
       "      <td>0</td>\n",
       "    </tr>\n",
       "    <tr>\n",
       "      <th>4</th>\n",
       "      <td>4</td>\n",
       "      <td>52554</td>\n",
       "      <td>15611551</td>\n",
       "      <td>Hill</td>\n",
       "      <td>627.0</td>\n",
       "      <td>Spain</td>\n",
       "      <td>Male</td>\n",
       "      <td>23.0</td>\n",
       "      <td>5</td>\n",
       "      <td>0.00</td>\n",
       "      <td>2</td>\n",
       "      <td>1</td>\n",
       "      <td>0</td>\n",
       "      <td>134483.07</td>\n",
       "      <td>0</td>\n",
       "    </tr>\n",
       "  </tbody>\n",
       "</table>\n",
       "</div>"
      ],
      "text/plain": [
       "   Unnamed: 0      id  CustomerId       Surname  CreditScore Geography  \\\n",
       "0           0  157138    15638646     Chinweike        628.0     Spain   \n",
       "1           1  116144    15695825      Onwumelu        710.0     Spain   \n",
       "2           2  145603    15592765         Marks        663.0    France   \n",
       "3           3   79929    15807525  Onyemachukwu        644.0     Spain   \n",
       "4           4   52554    15611551          Hill        627.0     Spain   \n",
       "\n",
       "   Gender   Age  Tenure    Balance  NumOfProducts  HasCrCard  IsActiveMember  \\\n",
       "0  Female  50.0       4  160133.08              1          1               1   \n",
       "1    Male  34.0       8       0.00              2          1               1   \n",
       "2  Female  23.0       8  125470.81              1          1               1   \n",
       "3    Male  45.0       8       0.00              2          0               1   \n",
       "4    Male  23.0       5       0.00              2          1               0   \n",
       "\n",
       "   EstimatedSalary  churn  \n",
       "0           653.53      0  \n",
       "1         72993.73      0  \n",
       "2        174536.17      0  \n",
       "3         28690.90      0  \n",
       "4        134483.07      0  "
      ]
     },
     "execution_count": 11,
     "metadata": {},
     "output_type": "execute_result"
    }
   ],
   "source": [
    "df.head()"
   ]
  },
  {
   "cell_type": "code",
   "execution_count": 12,
   "id": "45c5a9a6",
   "metadata": {},
   "outputs": [
    {
     "name": "stdout",
     "output_type": "stream",
     "text": [
      "<class 'pandas.core.frame.DataFrame'>\n",
      "RangeIndex: 41258 entries, 0 to 41257\n",
      "Data columns (total 15 columns):\n",
      " #   Column           Non-Null Count  Dtype  \n",
      "---  ------           --------------  -----  \n",
      " 0   Unnamed: 0       41258 non-null  int64  \n",
      " 1   id               41258 non-null  int64  \n",
      " 2   CustomerId       41258 non-null  int64  \n",
      " 3   Surname          41258 non-null  object \n",
      " 4   CreditScore      41246 non-null  float64\n",
      " 5   Geography        41258 non-null  object \n",
      " 6   Gender           41258 non-null  object \n",
      " 7   Age              41258 non-null  float64\n",
      " 8   Tenure           41258 non-null  int64  \n",
      " 9   Balance          41258 non-null  float64\n",
      " 10  NumOfProducts    41258 non-null  int64  \n",
      " 11  HasCrCard        41258 non-null  int64  \n",
      " 12  IsActiveMember   41258 non-null  int64  \n",
      " 13  EstimatedSalary  41258 non-null  float64\n",
      " 14  churn            41258 non-null  int64  \n",
      "dtypes: float64(4), int64(8), object(3)\n",
      "memory usage: 4.7+ MB\n"
     ]
    }
   ],
   "source": [
    "df.info()"
   ]
  },
  {
   "cell_type": "code",
   "execution_count": 13,
   "id": "8f50bc65",
   "metadata": {},
   "outputs": [
    {
     "data": {
      "text/html": [
       "<div>\n",
       "<style scoped>\n",
       "    .dataframe tbody tr th:only-of-type {\n",
       "        vertical-align: middle;\n",
       "    }\n",
       "\n",
       "    .dataframe tbody tr th {\n",
       "        vertical-align: top;\n",
       "    }\n",
       "\n",
       "    .dataframe thead th {\n",
       "        text-align: right;\n",
       "    }\n",
       "</style>\n",
       "<table border=\"1\" class=\"dataframe\">\n",
       "  <thead>\n",
       "    <tr style=\"text-align: right;\">\n",
       "      <th></th>\n",
       "      <th>Unnamed: 0</th>\n",
       "      <th>id</th>\n",
       "      <th>CustomerId</th>\n",
       "      <th>CreditScore</th>\n",
       "      <th>Age</th>\n",
       "      <th>Tenure</th>\n",
       "      <th>Balance</th>\n",
       "      <th>NumOfProducts</th>\n",
       "      <th>HasCrCard</th>\n",
       "      <th>IsActiveMember</th>\n",
       "      <th>EstimatedSalary</th>\n",
       "      <th>churn</th>\n",
       "    </tr>\n",
       "  </thead>\n",
       "  <tbody>\n",
       "    <tr>\n",
       "      <th>count</th>\n",
       "      <td>41258.00000</td>\n",
       "      <td>41258.000000</td>\n",
       "      <td>4.125800e+04</td>\n",
       "      <td>41246.000000</td>\n",
       "      <td>41258.000000</td>\n",
       "      <td>41258.000000</td>\n",
       "      <td>41258.000000</td>\n",
       "      <td>41258.000000</td>\n",
       "      <td>41258.000000</td>\n",
       "      <td>41258.000000</td>\n",
       "      <td>41258.000000</td>\n",
       "      <td>41258.000000</td>\n",
       "    </tr>\n",
       "    <tr>\n",
       "      <th>mean</th>\n",
       "      <td>20628.50000</td>\n",
       "      <td>82629.935091</td>\n",
       "      <td>1.569218e+07</td>\n",
       "      <td>655.802890</td>\n",
       "      <td>38.165611</td>\n",
       "      <td>5.036308</td>\n",
       "      <td>55308.965471</td>\n",
       "      <td>1.556038</td>\n",
       "      <td>0.754011</td>\n",
       "      <td>0.496776</td>\n",
       "      <td>112507.486040</td>\n",
       "      <td>0.214455</td>\n",
       "    </tr>\n",
       "    <tr>\n",
       "      <th>std</th>\n",
       "      <td>11910.30304</td>\n",
       "      <td>47642.122777</td>\n",
       "      <td>7.136319e+04</td>\n",
       "      <td>79.736298</td>\n",
       "      <td>8.947665</td>\n",
       "      <td>2.817831</td>\n",
       "      <td>62795.530950</td>\n",
       "      <td>0.548029</td>\n",
       "      <td>0.430677</td>\n",
       "      <td>0.499996</td>\n",
       "      <td>50048.666663</td>\n",
       "      <td>0.410449</td>\n",
       "    </tr>\n",
       "    <tr>\n",
       "      <th>min</th>\n",
       "      <td>0.00000</td>\n",
       "      <td>1.000000</td>\n",
       "      <td>1.556570e+07</td>\n",
       "      <td>350.000000</td>\n",
       "      <td>18.000000</td>\n",
       "      <td>0.000000</td>\n",
       "      <td>0.000000</td>\n",
       "      <td>1.000000</td>\n",
       "      <td>0.000000</td>\n",
       "      <td>0.000000</td>\n",
       "      <td>11.580000</td>\n",
       "      <td>0.000000</td>\n",
       "    </tr>\n",
       "    <tr>\n",
       "      <th>25%</th>\n",
       "      <td>10314.25000</td>\n",
       "      <td>41377.500000</td>\n",
       "      <td>1.563298e+07</td>\n",
       "      <td>597.000000</td>\n",
       "      <td>32.000000</td>\n",
       "      <td>3.000000</td>\n",
       "      <td>0.000000</td>\n",
       "      <td>1.000000</td>\n",
       "      <td>1.000000</td>\n",
       "      <td>0.000000</td>\n",
       "      <td>74564.410000</td>\n",
       "      <td>0.000000</td>\n",
       "    </tr>\n",
       "    <tr>\n",
       "      <th>50%</th>\n",
       "      <td>20628.50000</td>\n",
       "      <td>82802.500000</td>\n",
       "      <td>1.569070e+07</td>\n",
       "      <td>659.000000</td>\n",
       "      <td>37.000000</td>\n",
       "      <td>5.000000</td>\n",
       "      <td>0.000000</td>\n",
       "      <td>2.000000</td>\n",
       "      <td>1.000000</td>\n",
       "      <td>0.000000</td>\n",
       "      <td>117616.290000</td>\n",
       "      <td>0.000000</td>\n",
       "    </tr>\n",
       "    <tr>\n",
       "      <th>75%</th>\n",
       "      <td>30942.75000</td>\n",
       "      <td>123737.250000</td>\n",
       "      <td>1.575662e+07</td>\n",
       "      <td>710.000000</td>\n",
       "      <td>42.750000</td>\n",
       "      <td>7.000000</td>\n",
       "      <td>119785.395000</td>\n",
       "      <td>2.000000</td>\n",
       "      <td>1.000000</td>\n",
       "      <td>1.000000</td>\n",
       "      <td>154700.647500</td>\n",
       "      <td>0.000000</td>\n",
       "    </tr>\n",
       "    <tr>\n",
       "      <th>max</th>\n",
       "      <td>41257.00000</td>\n",
       "      <td>165032.000000</td>\n",
       "      <td>1.581569e+07</td>\n",
       "      <td>850.000000</td>\n",
       "      <td>92.000000</td>\n",
       "      <td>10.000000</td>\n",
       "      <td>238387.560000</td>\n",
       "      <td>4.000000</td>\n",
       "      <td>1.000000</td>\n",
       "      <td>1.000000</td>\n",
       "      <td>199992.480000</td>\n",
       "      <td>1.000000</td>\n",
       "    </tr>\n",
       "  </tbody>\n",
       "</table>\n",
       "</div>"
      ],
      "text/plain": [
       "        Unnamed: 0             id    CustomerId   CreditScore           Age  \\\n",
       "count  41258.00000   41258.000000  4.125800e+04  41246.000000  41258.000000   \n",
       "mean   20628.50000   82629.935091  1.569218e+07    655.802890     38.165611   \n",
       "std    11910.30304   47642.122777  7.136319e+04     79.736298      8.947665   \n",
       "min        0.00000       1.000000  1.556570e+07    350.000000     18.000000   \n",
       "25%    10314.25000   41377.500000  1.563298e+07    597.000000     32.000000   \n",
       "50%    20628.50000   82802.500000  1.569070e+07    659.000000     37.000000   \n",
       "75%    30942.75000  123737.250000  1.575662e+07    710.000000     42.750000   \n",
       "max    41257.00000  165032.000000  1.581569e+07    850.000000     92.000000   \n",
       "\n",
       "             Tenure        Balance  NumOfProducts     HasCrCard  \\\n",
       "count  41258.000000   41258.000000   41258.000000  41258.000000   \n",
       "mean       5.036308   55308.965471       1.556038      0.754011   \n",
       "std        2.817831   62795.530950       0.548029      0.430677   \n",
       "min        0.000000       0.000000       1.000000      0.000000   \n",
       "25%        3.000000       0.000000       1.000000      1.000000   \n",
       "50%        5.000000       0.000000       2.000000      1.000000   \n",
       "75%        7.000000  119785.395000       2.000000      1.000000   \n",
       "max       10.000000  238387.560000       4.000000      1.000000   \n",
       "\n",
       "       IsActiveMember  EstimatedSalary         churn  \n",
       "count    41258.000000     41258.000000  41258.000000  \n",
       "mean         0.496776    112507.486040      0.214455  \n",
       "std          0.499996     50048.666663      0.410449  \n",
       "min          0.000000        11.580000      0.000000  \n",
       "25%          0.000000     74564.410000      0.000000  \n",
       "50%          0.000000    117616.290000      0.000000  \n",
       "75%          1.000000    154700.647500      0.000000  \n",
       "max          1.000000    199992.480000      1.000000  "
      ]
     },
     "execution_count": 13,
     "metadata": {},
     "output_type": "execute_result"
    }
   ],
   "source": [
    "df.describe()"
   ]
  },
  {
   "cell_type": "code",
   "execution_count": 18,
   "id": "ba07c92a",
   "metadata": {
    "scrolled": true
   },
   "outputs": [
    {
     "data": {
      "text/plain": [
       "Index(['Unnamed: 0', 'id', 'CustomerId', 'Surname', 'CreditScore', 'Geography',\n",
       "       'Gender', 'Age', 'Tenure', 'Balance', 'NumOfProducts', 'HasCrCard',\n",
       "       'IsActiveMember', 'EstimatedSalary', 'churn'],\n",
       "      dtype='object')"
      ]
     },
     "execution_count": 18,
     "metadata": {},
     "output_type": "execute_result"
    }
   ],
   "source": [
    "df.columns"
   ]
  },
  {
   "cell_type": "code",
   "execution_count": 19,
   "id": "18de2917",
   "metadata": {},
   "outputs": [
    {
     "data": {
      "text/plain": [
       "(41258, 15)"
      ]
     },
     "execution_count": 19,
     "metadata": {},
     "output_type": "execute_result"
    }
   ],
   "source": [
    "df.shape"
   ]
  },
  {
   "cell_type": "code",
   "execution_count": 20,
   "id": "1d01660d",
   "metadata": {},
   "outputs": [
    {
     "data": {
      "text/plain": [
       "Unnamed: 0          0\n",
       "id                  0\n",
       "CustomerId          0\n",
       "Surname             0\n",
       "CreditScore        12\n",
       "Geography           0\n",
       "Gender              0\n",
       "Age                 0\n",
       "Tenure              0\n",
       "Balance             0\n",
       "NumOfProducts       0\n",
       "HasCrCard           0\n",
       "IsActiveMember      0\n",
       "EstimatedSalary     0\n",
       "churn               0\n",
       "dtype: int64"
      ]
     },
     "execution_count": 20,
     "metadata": {},
     "output_type": "execute_result"
    }
   ],
   "source": [
    "df.isna().sum()"
   ]
  },
  {
   "cell_type": "markdown",
   "id": "10dc464b",
   "metadata": {},
   "source": [
    "Ada 12 missing value yang harus dihandle dengan cara menggantikannya dengan nilai mean dari kategori tersebut"
   ]
  },
  {
   "cell_type": "code",
   "execution_count": 21,
   "id": "2508754c",
   "metadata": {},
   "outputs": [
    {
     "data": {
      "text/plain": [
       "0"
      ]
     },
     "execution_count": 21,
     "metadata": {},
     "output_type": "execute_result"
    }
   ],
   "source": [
    "df.duplicated().sum()"
   ]
  },
  {
   "cell_type": "markdown",
   "id": "68b18044",
   "metadata": {},
   "source": [
    "Tidak ada data duplicate"
   ]
  },
  {
   "cell_type": "code",
   "execution_count": 23,
   "id": "4b28c392",
   "metadata": {},
   "outputs": [
    {
     "data": {
      "image/png": "[encoded data removed]",
      "text/plain": [
       "<Figure size 720x432 with 1 Axes>"
      ]
     },
     "metadata": {
      "needs_background": "light"
     },
     "output_type": "display_data"
    }
   ],
   "source": [
    "plt.figure(figsize=(10, 6))\n",
    "\n",
    "plt.subplot(2, 2, 1)\n",
    "plt.boxplot(df['Age'])\n",
    "plt.title('Age')\n",
    "\n",
    "plt.show()"
   ]
  },
  {
   "cell_type": "markdown",
   "id": "8608d81e",
   "metadata": {},
   "source": [
    "Outlier di kategori umur berada pada usia 60 ke atas.|"
   ]
  },
  {
   "cell_type": "markdown",
   "id": "38bb6cc7",
   "metadata": {},
   "source": [
    "Karena terdapat 12 missing value, maka kita lakukan hal di bawah ini"
   ]
  },
  {
   "cell_type": "code",
   "execution_count": 25,
   "id": "540713e1",
   "metadata": {},
   "outputs": [],
   "source": [
    "mean_cs = df['CreditScore'].mean()\n",
    "\n",
    "# Ganti null data dengan mean dari credit score\n",
    "df['CreditScore'].fillna(mean_cs, inplace=True)"
   ]
  },
  {
   "cell_type": "code",
   "execution_count": 26,
   "id": "52d2ba3e",
   "metadata": {},
   "outputs": [
    {
     "data": {
      "text/plain": [
       "0"
      ]
     },
     "execution_count": 26,
     "metadata": {},
     "output_type": "execute_result"
    }
   ],
   "source": [
    "df[\"CreditScore\"].isnull().sum()"
   ]
  },
  {
   "cell_type": "markdown",
   "id": "59e99da8",
   "metadata": {},
   "source": [
    "Terbukti bahwa missing value sudah dihandle dengan baik, sehingga data sudah tidak memiliki null data"
   ]
  },
  {
   "cell_type": "markdown",
   "id": "68bde2b3",
   "metadata": {},
   "source": [
    "Setelah itu, kita perlu melihat persebaran warga negara yang merupakan nasabah di bank ini"
   ]
  },
  {
   "cell_type": "code",
   "execution_count": 31,
   "id": "915ab887",
   "metadata": {},
   "outputs": [
    {
     "data": {
      "text/plain": [
       "<AxesSubplot:xlabel='Geography', ylabel='count'>"
      ]
     },
     "execution_count": 31,
     "metadata": {},
     "output_type": "execute_result"
    },
    {
     "data": {
      "image/png": "[encoded data removed]",
      "text/plain": [
       "<Figure size 432x288 with 1 Axes>"
      ]
     },
     "metadata": {
      "needs_background": "light"
     },
     "output_type": "display_data"
    }
   ],
   "source": [
    "sns.countplot(x='Geography', data=df)"
   ]
  },
  {
   "cell_type": "markdown",
   "id": "162e7dfc",
   "metadata": {},
   "source": [
    "Hal di atas menggambarkan jumlah nasabah sepenuhnya, tapi kita juga perlu melihat berapa banyak nasabah yang tetap dan nasabah yang meninggalkan bank"
   ]
  },
  {
   "cell_type": "code",
   "execution_count": 43,
   "id": "2d13019e",
   "metadata": {},
   "outputs": [
    {
     "data": {
      "image/png": "[encoded data removed]",
      "text/plain": [
       "<Figure size 432x288 with 1 Axes>"
      ]
     },
     "metadata": {
      "needs_background": "light"
     },
     "output_type": "display_data"
    }
   ],
   "source": [
    "churn_0 = df[df['churn'] == 0]\n",
    "churn_1 = df[df['churn'] == 1]\n",
    "churn_0_active = churn_0['Geography'].value_counts()\n",
    "churn_1_active = churn_1['Geography'].value_counts()\n",
    "\n",
    "plt.bar(churn_0_active.index, churn_0_active.values, label='churn_0', color='red')\n",
    "plt.bar(churn_1_active.index, churn_1_active.values, label='churn_1', color='blue')\n",
    "plt.xlabel('Geography')\n",
    "plt.ylabel('Freq')\n",
    "plt.legend()\n",
    "plt.show()"
   ]
  },
  {
   "cell_type": "markdown",
   "id": "6ee5a835",
   "metadata": {},
   "source": [
    "Hal ini menunjukkan bahwa nasabah yang berasal dari jerman memiliki persentase churn 1 yang lebih tinggi dibanding dengan persentase negara lain"
   ]
  },
  {
   "cell_type": "code",
   "execution_count": 47,
   "id": "ab88bd14",
   "metadata": {},
   "outputs": [
    {
     "data": {
      "text/plain": [
       "<matplotlib.legend.Legend at 0x1e18f66e220>"
      ]
     },
     "execution_count": 47,
     "metadata": {},
     "output_type": "execute_result"
    },
    {
     "data": {
      "image/png": "[encoded data removed]",
      "text/plain": [
       "<Figure size 432x288 with 1 Axes>"
      ]
     },
     "metadata": {
      "needs_background": "light"
     },
     "output_type": "display_data"
    }
   ],
   "source": [
    "gender_churn_0 = df[df.churn==0]['Gender']\n",
    "gender_churn_1 = df[df.churn==1]['Gender']\n",
    "\n",
    "plt.xlabel('Gender')\n",
    "plt.ylabel('Freq')\n",
    "plt.hist([gender_churn_0, gender_churn_1], color=['red', 'blue'], label=['0', '1'])\n",
    "plt.tight_layout()\n",
    "plt.legend()"
   ]
  },
  {
   "cell_type": "markdown",
   "id": "a27babfe",
   "metadata": {},
   "source": [
    "Data Preprocessing"
   ]
  },
  {
   "cell_type": "markdown",
   "id": "6810d844",
   "metadata": {},
   "source": [
    "Saya akan melakukan feature engineering dan drop beberapa kolom yang tidak berguna terhadap hasil dari model tersebut"
   ]
  },
  {
   "cell_type": "code",
   "execution_count": 49,
   "id": "ccdb98a5",
   "metadata": {},
   "outputs": [
    {
     "name": "stdout",
     "output_type": "stream",
     "text": [
      "<class 'pandas.core.frame.DataFrame'>\n",
      "RangeIndex: 41258 entries, 0 to 41257\n",
      "Data columns (total 15 columns):\n",
      " #   Column           Non-Null Count  Dtype  \n",
      "---  ------           --------------  -----  \n",
      " 0   Unnamed: 0       41258 non-null  int64  \n",
      " 1   id               41258 non-null  int64  \n",
      " 2   CustomerId       41258 non-null  int64  \n",
      " 3   Surname          41258 non-null  object \n",
      " 4   CreditScore      41258 non-null  float64\n",
      " 5   Geography        41258 non-null  object \n",
      " 6   Gender           41258 non-null  object \n",
      " 7   Age              41258 non-null  float64\n",
      " 8   Tenure           41258 non-null  int64  \n",
      " 9   Balance          41258 non-null  float64\n",
      " 10  NumOfProducts    41258 non-null  int64  \n",
      " 11  HasCrCard        41258 non-null  int64  \n",
      " 12  IsActiveMember   41258 non-null  int64  \n",
      " 13  EstimatedSalary  41258 non-null  float64\n",
      " 14  churn            41258 non-null  int64  \n",
      "dtypes: float64(4), int64(8), object(3)\n",
      "memory usage: 4.7+ MB\n"
     ]
    }
   ],
   "source": [
    "df.info()"
   ]
  },
  {
   "cell_type": "code",
   "execution_count": 53,
   "id": "3bae7430",
   "metadata": {},
   "outputs": [
    {
     "ename": "KeyError",
     "evalue": "\"['Unnamed: 0', 'CustomerId', 'id', 'Surname'] not found in axis\"",
     "output_type": "error",
     "traceback": [
      "\u001b[1;31m---------------------------------------------------------------------------\u001b[0m",
      "\u001b[1;31mKeyError\u001b[0m                                  Traceback (most recent call last)",
      "Input \u001b[1;32mIn [53]\u001b[0m, in \u001b[0;36m<cell line: 1>\u001b[1;34m()\u001b[0m\n\u001b[1;32m----> 1\u001b[0m df \u001b[38;5;241m=\u001b[39m \u001b[43mdf\u001b[49m\u001b[38;5;241;43m.\u001b[39;49m\u001b[43mdrop\u001b[49m\u001b[43m(\u001b[49m\u001b[43mcolumns\u001b[49m\u001b[38;5;241;43m=\u001b[39;49m\u001b[43m[\u001b[49m\u001b[38;5;124;43m'\u001b[39;49m\u001b[38;5;124;43mUnnamed: 0\u001b[39;49m\u001b[38;5;124;43m'\u001b[39;49m\u001b[43m,\u001b[49m\u001b[43m \u001b[49m\u001b[38;5;124;43m'\u001b[39;49m\u001b[38;5;124;43mCustomerId\u001b[39;49m\u001b[38;5;124;43m'\u001b[39;49m\u001b[43m,\u001b[49m\u001b[43m \u001b[49m\u001b[38;5;124;43m'\u001b[39;49m\u001b[38;5;124;43mid\u001b[39;49m\u001b[38;5;124;43m'\u001b[39;49m\u001b[43m,\u001b[49m\u001b[43m \u001b[49m\u001b[38;5;124;43m'\u001b[39;49m\u001b[38;5;124;43mSurname\u001b[39;49m\u001b[38;5;124;43m'\u001b[39;49m\u001b[43m]\u001b[49m\u001b[43m)\u001b[49m\n\u001b[0;32m      2\u001b[0m df\u001b[38;5;241m.\u001b[39mcolumns\n",
      "File \u001b[1;32m~\\anaconda3\\lib\\site-packages\\pandas\\util\\_decorators.py:311\u001b[0m, in \u001b[0;36mdeprecate_nonkeyword_arguments.<locals>.decorate.<locals>.wrapper\u001b[1;34m(*args, **kwargs)\u001b[0m\n\u001b[0;32m    305\u001b[0m \u001b[38;5;28;01mif\u001b[39;00m \u001b[38;5;28mlen\u001b[39m(args) \u001b[38;5;241m>\u001b[39m num_allow_args:\n\u001b[0;32m    306\u001b[0m     warnings\u001b[38;5;241m.\u001b[39mwarn(\n\u001b[0;32m    307\u001b[0m         msg\u001b[38;5;241m.\u001b[39mformat(arguments\u001b[38;5;241m=\u001b[39marguments),\n\u001b[0;32m    308\u001b[0m         \u001b[38;5;167;01mFutureWarning\u001b[39;00m,\n\u001b[0;32m    309\u001b[0m         stacklevel\u001b[38;5;241m=\u001b[39mstacklevel,\n\u001b[0;32m    310\u001b[0m     )\n\u001b[1;32m--> 311\u001b[0m \u001b[38;5;28;01mreturn\u001b[39;00m func(\u001b[38;5;241m*\u001b[39margs, \u001b[38;5;241m*\u001b[39m\u001b[38;5;241m*\u001b[39mkwargs)\n",
      "File \u001b[1;32m~\\anaconda3\\lib\\site-packages\\pandas\\core\\frame.py:4954\u001b[0m, in \u001b[0;36mDataFrame.drop\u001b[1;34m(self, labels, axis, index, columns, level, inplace, errors)\u001b[0m\n\u001b[0;32m   4806\u001b[0m \u001b[38;5;129m@deprecate_nonkeyword_arguments\u001b[39m(version\u001b[38;5;241m=\u001b[39m\u001b[38;5;28;01mNone\u001b[39;00m, allowed_args\u001b[38;5;241m=\u001b[39m[\u001b[38;5;124m\"\u001b[39m\u001b[38;5;124mself\u001b[39m\u001b[38;5;124m\"\u001b[39m, \u001b[38;5;124m\"\u001b[39m\u001b[38;5;124mlabels\u001b[39m\u001b[38;5;124m\"\u001b[39m])\n\u001b[0;32m   4807\u001b[0m \u001b[38;5;28;01mdef\u001b[39;00m \u001b[38;5;21mdrop\u001b[39m(\n\u001b[0;32m   4808\u001b[0m     \u001b[38;5;28mself\u001b[39m,\n\u001b[1;32m   (...)\u001b[0m\n\u001b[0;32m   4815\u001b[0m     errors: \u001b[38;5;28mstr\u001b[39m \u001b[38;5;241m=\u001b[39m \u001b[38;5;124m\"\u001b[39m\u001b[38;5;124mraise\u001b[39m\u001b[38;5;124m\"\u001b[39m,\n\u001b[0;32m   4816\u001b[0m ):\n\u001b[0;32m   4817\u001b[0m \u001b[38;5;250m    \u001b[39m\u001b[38;5;124;03m\"\"\"\u001b[39;00m\n\u001b[0;32m   4818\u001b[0m \u001b[38;5;124;03m    Drop specified labels from rows or columns.\u001b[39;00m\n\u001b[0;32m   4819\u001b[0m \n\u001b[1;32m   (...)\u001b[0m\n\u001b[0;32m   4952\u001b[0m \u001b[38;5;124;03m            weight  1.0     0.8\u001b[39;00m\n\u001b[0;32m   4953\u001b[0m \u001b[38;5;124;03m    \"\"\"\u001b[39;00m\n\u001b[1;32m-> 4954\u001b[0m     \u001b[38;5;28;01mreturn\u001b[39;00m \u001b[38;5;28;43msuper\u001b[39;49m\u001b[43m(\u001b[49m\u001b[43m)\u001b[49m\u001b[38;5;241;43m.\u001b[39;49m\u001b[43mdrop\u001b[49m\u001b[43m(\u001b[49m\n\u001b[0;32m   4955\u001b[0m \u001b[43m        \u001b[49m\u001b[43mlabels\u001b[49m\u001b[38;5;241;43m=\u001b[39;49m\u001b[43mlabels\u001b[49m\u001b[43m,\u001b[49m\n\u001b[0;32m   4956\u001b[0m \u001b[43m        \u001b[49m\u001b[43maxis\u001b[49m\u001b[38;5;241;43m=\u001b[39;49m\u001b[43maxis\u001b[49m\u001b[43m,\u001b[49m\n\u001b[0;32m   4957\u001b[0m \u001b[43m        \u001b[49m\u001b[43mindex\u001b[49m\u001b[38;5;241;43m=\u001b[39;49m\u001b[43mindex\u001b[49m\u001b[43m,\u001b[49m\n\u001b[0;32m   4958\u001b[0m \u001b[43m        \u001b[49m\u001b[43mcolumns\u001b[49m\u001b[38;5;241;43m=\u001b[39;49m\u001b[43mcolumns\u001b[49m\u001b[43m,\u001b[49m\n\u001b[0;32m   4959\u001b[0m \u001b[43m        \u001b[49m\u001b[43mlevel\u001b[49m\u001b[38;5;241;43m=\u001b[39;49m\u001b[43mlevel\u001b[49m\u001b[43m,\u001b[49m\n\u001b[0;32m   4960\u001b[0m \u001b[43m        \u001b[49m\u001b[43minplace\u001b[49m\u001b[38;5;241;43m=\u001b[39;49m\u001b[43minplace\u001b[49m\u001b[43m,\u001b[49m\n\u001b[0;32m   4961\u001b[0m \u001b[43m        \u001b[49m\u001b[43merrors\u001b[49m\u001b[38;5;241;43m=\u001b[39;49m\u001b[43merrors\u001b[49m\u001b[43m,\u001b[49m\n\u001b[0;32m   4962\u001b[0m \u001b[43m    \u001b[49m\u001b[43m)\u001b[49m\n",
      "File \u001b[1;32m~\\anaconda3\\lib\\site-packages\\pandas\\core\\generic.py:4267\u001b[0m, in \u001b[0;36mNDFrame.drop\u001b[1;34m(self, labels, axis, index, columns, level, inplace, errors)\u001b[0m\n\u001b[0;32m   4265\u001b[0m \u001b[38;5;28;01mfor\u001b[39;00m axis, labels \u001b[38;5;129;01min\u001b[39;00m axes\u001b[38;5;241m.\u001b[39mitems():\n\u001b[0;32m   4266\u001b[0m     \u001b[38;5;28;01mif\u001b[39;00m labels \u001b[38;5;129;01mis\u001b[39;00m \u001b[38;5;129;01mnot\u001b[39;00m \u001b[38;5;28;01mNone\u001b[39;00m:\n\u001b[1;32m-> 4267\u001b[0m         obj \u001b[38;5;241m=\u001b[39m \u001b[43mobj\u001b[49m\u001b[38;5;241;43m.\u001b[39;49m\u001b[43m_drop_axis\u001b[49m\u001b[43m(\u001b[49m\u001b[43mlabels\u001b[49m\u001b[43m,\u001b[49m\u001b[43m \u001b[49m\u001b[43maxis\u001b[49m\u001b[43m,\u001b[49m\u001b[43m \u001b[49m\u001b[43mlevel\u001b[49m\u001b[38;5;241;43m=\u001b[39;49m\u001b[43mlevel\u001b[49m\u001b[43m,\u001b[49m\u001b[43m \u001b[49m\u001b[43merrors\u001b[49m\u001b[38;5;241;43m=\u001b[39;49m\u001b[43merrors\u001b[49m\u001b[43m)\u001b[49m\n\u001b[0;32m   4269\u001b[0m \u001b[38;5;28;01mif\u001b[39;00m inplace:\n\u001b[0;32m   4270\u001b[0m     \u001b[38;5;28mself\u001b[39m\u001b[38;5;241m.\u001b[39m_update_inplace(obj)\n",
      "File \u001b[1;32m~\\anaconda3\\lib\\site-packages\\pandas\\core\\generic.py:4311\u001b[0m, in \u001b[0;36mNDFrame._drop_axis\u001b[1;34m(self, labels, axis, level, errors, consolidate, only_slice)\u001b[0m\n\u001b[0;32m   4309\u001b[0m         new_axis \u001b[38;5;241m=\u001b[39m axis\u001b[38;5;241m.\u001b[39mdrop(labels, level\u001b[38;5;241m=\u001b[39mlevel, errors\u001b[38;5;241m=\u001b[39merrors)\n\u001b[0;32m   4310\u001b[0m     \u001b[38;5;28;01melse\u001b[39;00m:\n\u001b[1;32m-> 4311\u001b[0m         new_axis \u001b[38;5;241m=\u001b[39m \u001b[43maxis\u001b[49m\u001b[38;5;241;43m.\u001b[39;49m\u001b[43mdrop\u001b[49m\u001b[43m(\u001b[49m\u001b[43mlabels\u001b[49m\u001b[43m,\u001b[49m\u001b[43m \u001b[49m\u001b[43merrors\u001b[49m\u001b[38;5;241;43m=\u001b[39;49m\u001b[43merrors\u001b[49m\u001b[43m)\u001b[49m\n\u001b[0;32m   4312\u001b[0m     indexer \u001b[38;5;241m=\u001b[39m axis\u001b[38;5;241m.\u001b[39mget_indexer(new_axis)\n\u001b[0;32m   4314\u001b[0m \u001b[38;5;66;03m# Case for non-unique axis\u001b[39;00m\n\u001b[0;32m   4315\u001b[0m \u001b[38;5;28;01melse\u001b[39;00m:\n",
      "File \u001b[1;32m~\\anaconda3\\lib\\site-packages\\pandas\\core\\indexes\\base.py:6644\u001b[0m, in \u001b[0;36mIndex.drop\u001b[1;34m(self, labels, errors)\u001b[0m\n\u001b[0;32m   6642\u001b[0m \u001b[38;5;28;01mif\u001b[39;00m mask\u001b[38;5;241m.\u001b[39many():\n\u001b[0;32m   6643\u001b[0m     \u001b[38;5;28;01mif\u001b[39;00m errors \u001b[38;5;241m!=\u001b[39m \u001b[38;5;124m\"\u001b[39m\u001b[38;5;124mignore\u001b[39m\u001b[38;5;124m\"\u001b[39m:\n\u001b[1;32m-> 6644\u001b[0m         \u001b[38;5;28;01mraise\u001b[39;00m \u001b[38;5;167;01mKeyError\u001b[39;00m(\u001b[38;5;124mf\u001b[39m\u001b[38;5;124m\"\u001b[39m\u001b[38;5;132;01m{\u001b[39;00m\u001b[38;5;28mlist\u001b[39m(labels[mask])\u001b[38;5;132;01m}\u001b[39;00m\u001b[38;5;124m not found in axis\u001b[39m\u001b[38;5;124m\"\u001b[39m)\n\u001b[0;32m   6645\u001b[0m     indexer \u001b[38;5;241m=\u001b[39m indexer[\u001b[38;5;241m~\u001b[39mmask]\n\u001b[0;32m   6646\u001b[0m \u001b[38;5;28;01mreturn\u001b[39;00m \u001b[38;5;28mself\u001b[39m\u001b[38;5;241m.\u001b[39mdelete(indexer)\n",
      "\u001b[1;31mKeyError\u001b[0m: \"['Unnamed: 0', 'CustomerId', 'id', 'Surname'] not found in axis\""
     ]
    }
   ],
   "source": [
    "df = df.drop(columns=['Unnamed: 0', 'CustomerId', 'id', 'Surname'])"
   ]
  },
  {
   "cell_type": "code",
   "execution_count": 54,
   "id": "835a03f9",
   "metadata": {},
   "outputs": [
    {
     "name": "stdout",
     "output_type": "stream",
     "text": [
      "<class 'pandas.core.frame.DataFrame'>\n",
      "RangeIndex: 41258 entries, 0 to 41257\n",
      "Data columns (total 11 columns):\n",
      " #   Column           Non-Null Count  Dtype  \n",
      "---  ------           --------------  -----  \n",
      " 0   CreditScore      41258 non-null  float64\n",
      " 1   Geography        41258 non-null  object \n",
      " 2   Gender           41258 non-null  object \n",
      " 3   Age              41258 non-null  float64\n",
      " 4   Tenure           41258 non-null  int64  \n",
      " 5   Balance          41258 non-null  float64\n",
      " 6   NumOfProducts    41258 non-null  int64  \n",
      " 7   HasCrCard        41258 non-null  int64  \n",
      " 8   IsActiveMember   41258 non-null  int64  \n",
      " 9   EstimatedSalary  41258 non-null  float64\n",
      " 10  churn            41258 non-null  int64  \n",
      "dtypes: float64(4), int64(5), object(2)\n",
      "memory usage: 3.5+ MB\n"
     ]
    }
   ],
   "source": [
    "df.info()"
   ]
  },
  {
   "cell_type": "code",
   "execution_count": 55,
   "id": "a49c515c",
   "metadata": {},
   "outputs": [
    {
     "data": {
      "text/html": [
       "<div>\n",
       "<style scoped>\n",
       "    .dataframe tbody tr th:only-of-type {\n",
       "        vertical-align: middle;\n",
       "    }\n",
       "\n",
       "    .dataframe tbody tr th {\n",
       "        vertical-align: top;\n",
       "    }\n",
       "\n",
       "    .dataframe thead th {\n",
       "        text-align: right;\n",
       "    }\n",
       "</style>\n",
       "<table border=\"1\" class=\"dataframe\">\n",
       "  <thead>\n",
       "    <tr style=\"text-align: right;\">\n",
       "      <th></th>\n",
       "      <th>CreditScore</th>\n",
       "      <th>Geography</th>\n",
       "      <th>Gender</th>\n",
       "      <th>Age</th>\n",
       "      <th>Tenure</th>\n",
       "      <th>Balance</th>\n",
       "      <th>NumOfProducts</th>\n",
       "      <th>HasCrCard</th>\n",
       "      <th>IsActiveMember</th>\n",
       "      <th>EstimatedSalary</th>\n",
       "      <th>churn</th>\n",
       "    </tr>\n",
       "  </thead>\n",
       "  <tbody>\n",
       "    <tr>\n",
       "      <th>0</th>\n",
       "      <td>628.0</td>\n",
       "      <td>Spain</td>\n",
       "      <td>Female</td>\n",
       "      <td>50.0</td>\n",
       "      <td>4</td>\n",
       "      <td>160133.08</td>\n",
       "      <td>1</td>\n",
       "      <td>1</td>\n",
       "      <td>1</td>\n",
       "      <td>653.53</td>\n",
       "      <td>0</td>\n",
       "    </tr>\n",
       "    <tr>\n",
       "      <th>1</th>\n",
       "      <td>710.0</td>\n",
       "      <td>Spain</td>\n",
       "      <td>Male</td>\n",
       "      <td>34.0</td>\n",
       "      <td>8</td>\n",
       "      <td>0.00</td>\n",
       "      <td>2</td>\n",
       "      <td>1</td>\n",
       "      <td>1</td>\n",
       "      <td>72993.73</td>\n",
       "      <td>0</td>\n",
       "    </tr>\n",
       "    <tr>\n",
       "      <th>2</th>\n",
       "      <td>663.0</td>\n",
       "      <td>France</td>\n",
       "      <td>Female</td>\n",
       "      <td>23.0</td>\n",
       "      <td>8</td>\n",
       "      <td>125470.81</td>\n",
       "      <td>1</td>\n",
       "      <td>1</td>\n",
       "      <td>1</td>\n",
       "      <td>174536.17</td>\n",
       "      <td>0</td>\n",
       "    </tr>\n",
       "    <tr>\n",
       "      <th>3</th>\n",
       "      <td>644.0</td>\n",
       "      <td>Spain</td>\n",
       "      <td>Male</td>\n",
       "      <td>45.0</td>\n",
       "      <td>8</td>\n",
       "      <td>0.00</td>\n",
       "      <td>2</td>\n",
       "      <td>0</td>\n",
       "      <td>1</td>\n",
       "      <td>28690.90</td>\n",
       "      <td>0</td>\n",
       "    </tr>\n",
       "    <tr>\n",
       "      <th>4</th>\n",
       "      <td>627.0</td>\n",
       "      <td>Spain</td>\n",
       "      <td>Male</td>\n",
       "      <td>23.0</td>\n",
       "      <td>5</td>\n",
       "      <td>0.00</td>\n",
       "      <td>2</td>\n",
       "      <td>1</td>\n",
       "      <td>0</td>\n",
       "      <td>134483.07</td>\n",
       "      <td>0</td>\n",
       "    </tr>\n",
       "  </tbody>\n",
       "</table>\n",
       "</div>"
      ],
      "text/plain": [
       "   CreditScore Geography  Gender   Age  Tenure    Balance  NumOfProducts  \\\n",
       "0        628.0     Spain  Female  50.0       4  160133.08              1   \n",
       "1        710.0     Spain    Male  34.0       8       0.00              2   \n",
       "2        663.0    France  Female  23.0       8  125470.81              1   \n",
       "3        644.0     Spain    Male  45.0       8       0.00              2   \n",
       "4        627.0     Spain    Male  23.0       5       0.00              2   \n",
       "\n",
       "   HasCrCard  IsActiveMember  EstimatedSalary  churn  \n",
       "0          1               1           653.53      0  \n",
       "1          1               1         72993.73      0  \n",
       "2          1               1        174536.17      0  \n",
       "3          0               1         28690.90      0  \n",
       "4          1               0        134483.07      0  "
      ]
     },
     "execution_count": 55,
     "metadata": {},
     "output_type": "execute_result"
    }
   ],
   "source": [
    "df.head()"
   ]
  },
  {
   "cell_type": "markdown",
   "id": "aa23110b",
   "metadata": {},
   "source": [
    "Setelah proses feature engineering selesai, maka kita akan melakukan proses split data dengan ketentuan test 2:8 train"
   ]
  },
  {
   "cell_type": "code",
   "execution_count": 57,
   "id": "cfb5e79a",
   "metadata": {},
   "outputs": [],
   "source": [
    "X = df.drop(columns=\"churn\")\n",
    "y = df.churn\n",
    "\n",
    "X_train, X_test, y_train, y_test = train_test_split(X,\n",
    "                                                    y,\n",
    "                                                    test_size=0.2, \n",
    "                                                    stratify=y,\n",
    "                                                    random_state=42)"
   ]
  },
  {
   "cell_type": "code",
   "execution_count": 58,
   "id": "d26c7818",
   "metadata": {},
   "outputs": [
    {
     "data": {
      "text/plain": [
       "0    25928\n",
       "1     7078\n",
       "Name: churn, dtype: int64"
      ]
     },
     "execution_count": 58,
     "metadata": {},
     "output_type": "execute_result"
    }
   ],
   "source": [
    "y_train.value_counts()"
   ]
  },
  {
   "cell_type": "code",
   "execution_count": 59,
   "id": "41b9dc0c",
   "metadata": {},
   "outputs": [
    {
     "data": {
      "text/plain": [
       "0    6482\n",
       "1    1770\n",
       "Name: churn, dtype: int64"
      ]
     },
     "execution_count": 59,
     "metadata": {},
     "output_type": "execute_result"
    }
   ],
   "source": [
    "y_test.value_counts()"
   ]
  },
  {
   "cell_type": "code",
   "execution_count": 65,
   "id": "920ded6b",
   "metadata": {},
   "outputs": [],
   "source": [
    "df_encode= {\"Gender\": \n",
    "            {\"Male\":1,\n",
    "            \"Female\" :0}}\n",
    "X_train= X_train.replace(df_encode)\n",
    "\n",
    "X_test= X_test.replace(df_encode)"
   ]
  },
  {
   "cell_type": "code",
   "execution_count": 68,
   "id": "0f781b83",
   "metadata": {},
   "outputs": [],
   "source": [
    "import pickle as pkl\n",
    "filee = 'buatgender.pkl'\n",
    "pkl.dump(df_encode, open(filee, 'wb'))"
   ]
  },
  {
   "cell_type": "code",
   "execution_count": 67,
   "id": "8765425d",
   "metadata": {},
   "outputs": [],
   "source": [
    "from sklearn.preprocessing import OneHotEncoder\n",
    "\n",
    "geoencode_train = X_train[['Geography']]\n",
    "geoencode_test = X_test[['Geography']]\n",
    "trainencode_geo = OneHotEncoder()\n",
    "\n",
    "geoencode_train = pd.DataFrame(trainencode_geo.fit_transform(geoencode_train).toarray(), \n",
    "                             columns=trainencode_geo.get_feature_names_out())\n",
    "geoencode_test = pd.DataFrame(trainencode_geo.transform(geoencode_test).toarray(), \n",
    "                            columns=trainencode_geo.get_feature_names_out())\n",
    "\n",
    "X_train = X_train.reset_index(drop=True)\n",
    "X_test = X_test.reset_index(drop=True)\n",
    "X_train = pd.concat([X_train, geoencode_train], axis=1)\n",
    "X_test = pd.concat([X_test, geoencode_test], axis=1)\n",
    "X_train.drop(columns=['Geography'], inplace=True)\n",
    "X_test.drop(columns=['Geography'], inplace=True)"
   ]
  },
  {
   "cell_type": "code",
   "execution_count": 69,
   "id": "73b5b59d",
   "metadata": {},
   "outputs": [],
   "source": [
    "filee_geo = 'geographyencode.pkl'\n",
    "pkl.dump(trainencode_geo, open(filee_geo, 'wb'))"
   ]
  },
  {
   "cell_type": "code",
   "execution_count": 71,
   "id": "70d54250",
   "metadata": {},
   "outputs": [],
   "source": [
    "from sklearn.preprocessing import RobustScaler, MinMaxScaler\n",
    "robscale = RobustScaler()\n",
    "minmaxscale = MinMaxScaler()\n",
    "\n",
    "#Scaling dengan robust untuk outlier\n",
    "X_train[['Age', 'CreditScore']] = robscale.fit_transform(X_train[['Age', 'CreditScore']])\n",
    "X_test[['Age', 'CreditScore']] = robscale.transform(X_test[['Age', 'CreditScore']])\n",
    "\n",
    "X_train[['Balance', 'EstimatedSalary']] = minmaxscale.fit_transform(X_train[['Balance', 'EstimatedSalary']])\n",
    "X_test[['Balance', 'EstimatedSalary']] = minmaxscale.transform(X_test[['Balance', 'EstimatedSalary']])"
   ]
  },
  {
   "cell_type": "code",
   "execution_count": 72,
   "id": "f6a68c86",
   "metadata": {},
   "outputs": [],
   "source": [
    "filee_robust = 'robscale.pkl'\n",
    "pkl.dump(robscale, open(filee_robust, 'wb'))\n",
    "\n",
    "filee_minmax = 'minmaxscale.pkl'\n",
    "pkl.dump(minmaxscale, open(filee_minmax, 'wb'))"
   ]
  },
  {
   "cell_type": "markdown",
   "id": "0230c4c4",
   "metadata": {},
   "source": [
    "# Random Forest"
   ]
  },
  {
   "cell_type": "code",
   "execution_count": 76,
   "id": "414ec035",
   "metadata": {},
   "outputs": [
    {
     "data": {
      "text/plain": [
       "RandomForestClassifier()"
      ]
     },
     "execution_count": 76,
     "metadata": {},
     "output_type": "execute_result"
    }
   ],
   "source": [
    "from sklearn.ensemble import RandomForestClassifier\n",
    "from sklearn.metrics import classification_report\n",
    "RanFor = RandomForestClassifier()\n",
    "RanFor.fit(X_train, y_train)"
   ]
  },
  {
   "cell_type": "markdown",
   "id": "7dde6312",
   "metadata": {},
   "source": [
    "Kemudian kita buat classification reportnya"
   ]
  },
  {
   "cell_type": "code",
   "execution_count": 77,
   "id": "a8043604",
   "metadata": {},
   "outputs": [
    {
     "name": "stdout",
     "output_type": "stream",
     "text": [
      "Classification Report untuk Random Forest\n",
      "\n",
      "              precision    recall  f1-score   support\n",
      "\n",
      "           0       0.88      0.94      0.91      6482\n",
      "           1       0.72      0.53      0.61      1770\n",
      "\n",
      "    accuracy                           0.85      8252\n",
      "   macro avg       0.80      0.74      0.76      8252\n",
      "weighted avg       0.84      0.85      0.85      8252\n",
      "\n"
     ]
    }
   ],
   "source": [
    "y_predictforRanFor = RanFor.predict(X_test)\n",
    "print('Classification Report untuk Random Forest')\n",
    "print('')\n",
    "print(classification_report(y_test, y_predictforRanFor))"
   ]
  },
  {
   "cell_type": "markdown",
   "id": "84ea650c",
   "metadata": {},
   "source": [
    "Lakukan tuning untuk random forest"
   ]
  },
  {
   "cell_type": "code",
   "execution_count": 84,
   "id": "1586810b",
   "metadata": {},
   "outputs": [],
   "source": [
    "from sklearn.model_selection import GridSearchCV\n",
    "param = {'crit':['entropy', 'gini', 'log_loss'], 'max_depth':[2,4,6,8]}"
   ]
  },
  {
   "cell_type": "code",
   "execution_count": 85,
   "id": "168b436a",
   "metadata": {},
   "outputs": [],
   "source": [
    "RanFor2 = RandomForestClassifier()"
   ]
  },
  {
   "cell_type": "code",
   "execution_count": 86,
   "id": "6b692867",
   "metadata": {},
   "outputs": [],
   "source": [
    "RanFor2 = GridSearchCV(RanFor2, param_grid = param, scoring = 'accuracy', cv=5)"
   ]
  },
  {
   "cell_type": "code",
   "execution_count": 90,
   "id": "cf7efcdc",
   "metadata": {},
   "outputs": [],
   "source": [
    "RanForNew = RandomForestClassifier(criterion= 'gini',max_depth=8)\n",
    "RanForNew.fit(X_train,y_train)\n",
    "y_predict_best = RanForNew.predict(X_test)"
   ]
  },
  {
   "cell_type": "code",
   "execution_count": 109,
   "id": "a1ee2615",
   "metadata": {},
   "outputs": [
    {
     "name": "stdout",
     "output_type": "stream",
     "text": [
      "Classification Report untuk Random Forest yang sudah ditune\n",
      "\n",
      "              precision    recall  f1-score   support\n",
      "\n",
      "           0       0.88      0.96      0.92      6482\n",
      "           1       0.78      0.50      0.61      1770\n",
      "\n",
      "    accuracy                           0.86      8252\n",
      "   macro avg       0.83      0.73      0.76      8252\n",
      "weighted avg       0.86      0.86      0.85      8252\n",
      "\n"
     ]
    }
   ],
   "source": [
    "print('Classification Report untuk Random Forest yang sudah ditune')\n",
    "print('')\n",
    "print(classification_report(y_test, y_predict_best))"
   ]
  },
  {
   "cell_type": "code",
   "execution_count": 113,
   "id": "2eb1a3a4",
   "metadata": {},
   "outputs": [
    {
     "name": "stdout",
     "output_type": "stream",
     "text": [
      "Nilai: 0.8873249171543275\n"
     ]
    }
   ],
   "source": [
    "from sklearn.metrics import roc_auc_score\n",
    "SMAAUC = RanForNew.predict_proba(X_test)[:, 1]\n",
    "Skor = roc_auc_score(y_test, SMAAUC)\n",
    "print(\"Nilai:\", Skor)"
   ]
  },
  {
   "cell_type": "markdown",
   "id": "f5a7e441",
   "metadata": {},
   "source": [
    "Skor Random Forest mendekati arah True Positive"
   ]
  },
  {
   "cell_type": "markdown",
   "id": "8387ccbe",
   "metadata": {},
   "source": [
    "# Xgboost"
   ]
  },
  {
   "cell_type": "code",
   "execution_count": 102,
   "id": "31b5ab91",
   "metadata": {},
   "outputs": [],
   "source": [
    "import xgboost as xgb\n",
    "rstat = 42\n",
    "XGBEW = xgb.XGBClassifier(objective='binary:logistic', random_state = rstat)\n",
    "\n",
    "XGBEW.fit(X_train, y_train)\n",
    "y_pred = XGBEW.predict(X_test)"
   ]
  },
  {
   "cell_type": "code",
   "execution_count": 103,
   "id": "2a4d2b8d",
   "metadata": {},
   "outputs": [
    {
     "name": "stdout",
     "output_type": "stream",
     "text": [
      "Classification Report untuk xgboost\n",
      "\n",
      "              precision    recall  f1-score   support\n",
      "\n",
      "           0       0.88      0.94      0.91      6482\n",
      "           1       0.70      0.55      0.62      1770\n",
      "\n",
      "    accuracy                           0.85      8252\n",
      "   macro avg       0.79      0.74      0.76      8252\n",
      "weighted avg       0.85      0.85      0.85      8252\n",
      "\n"
     ]
    }
   ],
   "source": [
    "print('Classification Report untuk xgboost')\n",
    "print('')\n",
    "print(classification_report(y_test, y_pred))"
   ]
  },
  {
   "cell_type": "code",
   "execution_count": 106,
   "id": "8fa63827",
   "metadata": {},
   "outputs": [
    {
     "data": {
      "text/plain": [
       "GridSearchCV(cv=3,\n",
       "             estimator=XGBClassifier(base_score=None, booster=None,\n",
       "                                     callbacks=None, colsample_bylevel=None,\n",
       "                                     colsample_bynode=None,\n",
       "                                     colsample_bytree=None, device=None,\n",
       "                                     early_stopping_rounds=None,\n",
       "                                     enable_categorical=False, eval_metric=None,\n",
       "                                     feature_types=None, gamma=None,\n",
       "                                     grow_policy=None, importance_type=None,\n",
       "                                     interaction_constraints=None,\n",
       "                                     learning_rate=None,...\n",
       "                                     max_cat_threshold=None,\n",
       "                                     max_cat_to_onehot=None,\n",
       "                                     max_delta_step=None, max_depth=None,\n",
       "                                     max_leaves=None, min_child_weight=None,\n",
       "                                     missing=nan, monotone_constraints=None,\n",
       "                                     multi_strategy=None, n_estimators=None,\n",
       "                                     n_jobs=None, num_parallel_tree=None,\n",
       "                                     random_state=42, ...),\n",
       "             param_grid={'learning_rate': [0.1, 0.01, 0.001],\n",
       "                         'maxdepth': [3, 5, 7], 'n_est': [100, 200, 300]},\n",
       "             scoring='accuracy')"
      ]
     },
     "execution_count": 106,
     "metadata": {},
     "output_type": "execute_result"
    }
   ],
   "source": [
    "pararam = {'learning_rate': [0.1, 0.01, 0.001], 'n_est': [100, 200, 300], 'maxdepth': [3, 5, 7]}\n",
    "\n",
    "grid_search = GridSearchCV(estimator=XGBEW, param_grid=pararam, cv=3, scoring='accuracy')\n",
    "grid_search.fit(X_train, y_train)"
   ]
  },
  {
   "cell_type": "code",
   "execution_count": 108,
   "id": "01e12fd5",
   "metadata": {},
   "outputs": [],
   "source": [
    "XGBNEW = xgb.XGBClassifier(objective='binary:logistic', learning_rate= 0.1, maxdepth= 3, n_est= 200, random_state=rstat)\n",
    "XGBNEW.fit(X_train, y_train)\n",
    "y_pred = XGBNEW.predict(X_test)"
   ]
  },
  {
   "cell_type": "code",
   "execution_count": 110,
   "id": "0b0decb1",
   "metadata": {},
   "outputs": [
    {
     "name": "stdout",
     "output_type": "stream",
     "text": [
      "Classification Report untuk xgboost yang sudah ditune\n",
      "\n",
      "              precision    recall  f1-score   support\n",
      "\n",
      "           0       0.89      0.94      0.91      6482\n",
      "           1       0.72      0.56      0.63      1770\n",
      "\n",
      "    accuracy                           0.86      8252\n",
      "   macro avg       0.80      0.75      0.77      8252\n",
      "weighted avg       0.85      0.86      0.85      8252\n",
      "\n"
     ]
    }
   ],
   "source": [
    "print('Classification Report untuk xgboost yang sudah ditune')\n",
    "print('')\n",
    "print(classification_report(y_test, y_pred))"
   ]
  },
  {
   "cell_type": "code",
   "execution_count": 114,
   "id": "5b7296b1",
   "metadata": {},
   "outputs": [
    {
     "name": "stdout",
     "output_type": "stream",
     "text": [
      "Nilai: 0.886347242341678\n"
     ]
    }
   ],
   "source": [
    "from sklearn.metrics import roc_auc_score\n",
    "SMPAUC = XGBNEW.predict_proba(X_test)[:, 1]\n",
    "Skor2 = roc_auc_score(y_test, SMPAUC)\n",
    "print(\"Nilai:\", Skor2)"
   ]
  },
  {
   "cell_type": "markdown",
   "id": "604eb9fa",
   "metadata": {},
   "source": [
    "Skor XGB juga mendekati arah True Positive"
   ]
  },
  {
   "cell_type": "markdown",
   "id": "9f41b78f",
   "metadata": {},
   "source": [
    "Summary:\n",
    "\n",
    "Seluruh model memiliki akurasi yang hampir mirip dan baik. Namun tidak bisa sepenuhnya dilihat dari akurasinya, kita harus melihat juga dari precision dan recall valuenya.\n",
    "\n",
    "Nilai precision yang tinggi menandakan bahwa model dapat memprediksi dengan baik untuk mengurangi false positive, dan recall yang baik digunakan untuk mengurangi value false negative.\n",
    "\n",
    "Awalnya Random Forest memiliki acc 85% sedangkan setelah ditune naik menjadi 86%, hal ini menandakan bahwa model sebelum dan sesudah ditune memiliki akurasi yang hampir mirip dan tidak terlalu berbeda. Di sisi lain, untuk Xgboost juga memiliki hasil yang sama yaitu 85% untuk sebelum ditune dan 86% setelah ditune.\n",
    "Namun saya tetap akan memilih untuk menggunakan model Xgboost karena performa tidak hanya dilihat dari akurasi saja, melainkan juga dari recall dan precision valuenya."
   ]
  },
  {
   "cell_type": "code",
   "execution_count": 115,
   "id": "0bb15246",
   "metadata": {},
   "outputs": [],
   "source": [
    "filesave = 'XGBOOSTNEW.pkl'\n",
    "pkl.dump(XGBNEW, open(filesave, 'wb'))"
   ]
  }
 ],
 "metadata": {
  "kernelspec": {
   "display_name": "Python 3 (ipykernel)",
   "language": "python",
   "name": "python3"
  },
  "language_info": {
   "codemirror_mode": {
    "name": "ipython",
    "version": 3
   },
   "file_extension": ".py",
   "mimetype": "text/x-python",
   "name": "python",
   "nbconvert_exporter": "python",
   "pygments_lexer": "ipython3",
   "version": "3.9.12"
  }
 },
 "nbformat": 4,
 "nbformat_minor": 5
}
